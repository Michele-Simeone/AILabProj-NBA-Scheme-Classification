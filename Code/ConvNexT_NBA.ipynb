{
  "cells": [
    {
      "cell_type": "markdown",
      "metadata": {
        "id": "view-in-github",
        "colab_type": "text"
      },
      "source": [
        "<a href=\"https://colab.research.google.com/github/Michele-Simeone/AILabProj-NBA-Scheme-Classification/blob/main/Code/ConvNexT_NBA.ipynb\" target=\"_parent\"><img src=\"https://colab.research.google.com/assets/colab-badge.svg\" alt=\"Open In Colab\"/></a>"
      ]
    },
    {
      "cell_type": "markdown",
      "source": [
        "# **ConvNeXtTiny**"
      ],
      "metadata": {
        "id": "Ro6XBHa3JHT5"
      }
    },
    {
      "cell_type": "markdown",
      "source": [
        "## **Import**"
      ],
      "metadata": {
        "id": "S35MRzneWvAM"
      }
    },
    {
      "cell_type": "markdown",
      "source": [
        "### **Google Drive**"
      ],
      "metadata": {
        "id": "eTrkqxolWlvB"
      }
    },
    {
      "cell_type": "code",
      "source": [
        "from google.colab import drive\n",
        "drive.mount('/content/drive')"
      ],
      "metadata": {
        "colab": {
          "base_uri": "https://localhost:8080/"
        },
        "id": "k5NN6v4pRHaF",
        "outputId": "5785cfe7-3954-4e93-a413-01cf32969ba4"
      },
      "execution_count": null,
      "outputs": [
        {
          "output_type": "stream",
          "name": "stdout",
          "text": [
            "Mounted at /content/drive\n"
          ]
        }
      ]
    },
    {
      "cell_type": "markdown",
      "source": [
        "### **Altri Import**"
      ],
      "metadata": {
        "id": "XPZPWt8zWrpD"
      }
    },
    {
      "cell_type": "code",
      "source": [
        "!pip install tf-nightly\n",
        "!pip install -U tensorflow-addons\n",
        "\n",
        "%matplotlib inline\n",
        "import matplotlib.pyplot as plt\n",
        "\n",
        "import tensorflow as tf\n",
        "import tensorflow_addons as tfa\n",
        "from tensorflow.keras import layers\n",
        "from tensorflow.keras import Model\n",
        "from tensorflow.keras.callbacks import EarlyStopping,ModelCheckpoint\n",
        "!apt install --allow-change-held-packages libcudnn8=8.1.0.77-1+cuda11.2"
      ],
      "metadata": {
        "id": "-CJAwI4OIwkp",
        "colab": {
          "base_uri": "https://localhost:8080/"
        },
        "outputId": "5336f4e7-5746-4422-bc89-4a105eb8e790"
      },
      "execution_count": null,
      "outputs": [
        {
          "output_type": "stream",
          "name": "stdout",
          "text": [
            "Looking in indexes: https://pypi.org/simple, https://us-python.pkg.dev/colab-wheels/public/simple/\n",
            "Collecting tf-nightly\n",
            "  Downloading tf_nightly-2.11.0.dev20220908-cp37-cp37m-manylinux_2_17_x86_64.manylinux2014_x86_64.whl (583.6 MB)\n",
            "\u001b[K     |████████████████████████████████| 583.6 MB 29 kB/s \n",
            "\u001b[?25hRequirement already satisfied: google-pasta>=0.1.1 in /usr/local/lib/python3.7/dist-packages (from tf-nightly) (0.2.0)\n",
            "Requirement already satisfied: packaging in /usr/local/lib/python3.7/dist-packages (from tf-nightly) (21.3)\n",
            "Requirement already satisfied: grpcio<2.0,>=1.24.3 in /usr/local/lib/python3.7/dist-packages (from tf-nightly) (1.47.0)\n",
            "Requirement already satisfied: astunparse>=1.6.0 in /usr/local/lib/python3.7/dist-packages (from tf-nightly) (1.6.3)\n",
            "Requirement already satisfied: libclang>=13.0.0 in /usr/local/lib/python3.7/dist-packages (from tf-nightly) (14.0.6)\n",
            "Collecting keras-nightly~=2.11.0.dev\n",
            "  Downloading keras_nightly-2.11.0.dev2022090807-py2.py3-none-any.whl (1.7 MB)\n",
            "\u001b[K     |████████████████████████████████| 1.7 MB 47.0 MB/s \n",
            "\u001b[?25hRequirement already satisfied: h5py>=2.9.0 in /usr/local/lib/python3.7/dist-packages (from tf-nightly) (3.1.0)\n",
            "Collecting tf-estimator-nightly~=2.11.0.dev\n",
            "  Downloading tf_estimator_nightly-2.11.0.dev2022090808-py2.py3-none-any.whl (439 kB)\n",
            "\u001b[K     |████████████████████████████████| 439 kB 68.3 MB/s \n",
            "\u001b[?25hRequirement already satisfied: tensorflow-io-gcs-filesystem>=0.23.1 in /usr/local/lib/python3.7/dist-packages (from tf-nightly) (0.26.0)\n",
            "Requirement already satisfied: numpy>=1.20 in /usr/local/lib/python3.7/dist-packages (from tf-nightly) (1.21.6)\n",
            "Requirement already satisfied: six>=1.12.0 in /usr/local/lib/python3.7/dist-packages (from tf-nightly) (1.15.0)\n",
            "Requirement already satisfied: opt-einsum>=2.3.2 in /usr/local/lib/python3.7/dist-packages (from tf-nightly) (3.3.0)\n",
            "Requirement already satisfied: typing-extensions>=3.6.6 in /usr/local/lib/python3.7/dist-packages (from tf-nightly) (4.1.1)\n",
            "Requirement already satisfied: absl-py>=1.0.0 in /usr/local/lib/python3.7/dist-packages (from tf-nightly) (1.2.0)\n",
            "Requirement already satisfied: termcolor>=1.1.0 in /usr/local/lib/python3.7/dist-packages (from tf-nightly) (1.1.0)\n",
            "Requirement already satisfied: flatbuffers>=2.0 in /usr/local/lib/python3.7/dist-packages (from tf-nightly) (2.0.7)\n",
            "Requirement already satisfied: wrapt>=1.11.0 in /usr/local/lib/python3.7/dist-packages (from tf-nightly) (1.14.1)\n",
            "Requirement already satisfied: protobuf<3.20,>=3.9.2 in /usr/local/lib/python3.7/dist-packages (from tf-nightly) (3.17.3)\n",
            "Collecting tb-nightly~=2.11.0.a\n",
            "  Downloading tb_nightly-2.11.0a20220908-py3-none-any.whl (5.9 MB)\n",
            "\u001b[K     |████████████████████████████████| 5.9 MB 46.4 MB/s \n",
            "\u001b[?25hRequirement already satisfied: setuptools in /usr/local/lib/python3.7/dist-packages (from tf-nightly) (57.4.0)\n",
            "Collecting gast<=0.4.0,>=0.2.1\n",
            "  Downloading gast-0.4.0-py3-none-any.whl (9.8 kB)\n",
            "Requirement already satisfied: wheel<1.0,>=0.23.0 in /usr/local/lib/python3.7/dist-packages (from astunparse>=1.6.0->tf-nightly) (0.37.1)\n",
            "Requirement already satisfied: cached-property in /usr/local/lib/python3.7/dist-packages (from h5py>=2.9.0->tf-nightly) (1.5.2)\n",
            "Requirement already satisfied: tensorboard-plugin-wit>=1.6.0 in /usr/local/lib/python3.7/dist-packages (from tb-nightly~=2.11.0.a->tf-nightly) (1.8.1)\n",
            "Requirement already satisfied: werkzeug>=1.0.1 in /usr/local/lib/python3.7/dist-packages (from tb-nightly~=2.11.0.a->tf-nightly) (1.0.1)\n",
            "Requirement already satisfied: requests<3,>=2.21.0 in /usr/local/lib/python3.7/dist-packages (from tb-nightly~=2.11.0.a->tf-nightly) (2.23.0)\n",
            "Requirement already satisfied: google-auth-oauthlib<0.5,>=0.4.1 in /usr/local/lib/python3.7/dist-packages (from tb-nightly~=2.11.0.a->tf-nightly) (0.4.6)\n",
            "Requirement already satisfied: tensorboard-data-server<0.7.0,>=0.6.0 in /usr/local/lib/python3.7/dist-packages (from tb-nightly~=2.11.0.a->tf-nightly) (0.6.1)\n",
            "Requirement already satisfied: markdown>=2.6.8 in /usr/local/lib/python3.7/dist-packages (from tb-nightly~=2.11.0.a->tf-nightly) (3.4.1)\n",
            "Requirement already satisfied: google-auth<3,>=1.6.3 in /usr/local/lib/python3.7/dist-packages (from tb-nightly~=2.11.0.a->tf-nightly) (1.35.0)\n",
            "Requirement already satisfied: pyasn1-modules>=0.2.1 in /usr/local/lib/python3.7/dist-packages (from google-auth<3,>=1.6.3->tb-nightly~=2.11.0.a->tf-nightly) (0.2.8)\n",
            "Requirement already satisfied: rsa<5,>=3.1.4 in /usr/local/lib/python3.7/dist-packages (from google-auth<3,>=1.6.3->tb-nightly~=2.11.0.a->tf-nightly) (4.9)\n",
            "Requirement already satisfied: cachetools<5.0,>=2.0.0 in /usr/local/lib/python3.7/dist-packages (from google-auth<3,>=1.6.3->tb-nightly~=2.11.0.a->tf-nightly) (4.2.4)\n",
            "Requirement already satisfied: requests-oauthlib>=0.7.0 in /usr/local/lib/python3.7/dist-packages (from google-auth-oauthlib<0.5,>=0.4.1->tb-nightly~=2.11.0.a->tf-nightly) (1.3.1)\n",
            "Requirement already satisfied: importlib-metadata>=4.4 in /usr/local/lib/python3.7/dist-packages (from markdown>=2.6.8->tb-nightly~=2.11.0.a->tf-nightly) (4.12.0)\n",
            "Requirement already satisfied: zipp>=0.5 in /usr/local/lib/python3.7/dist-packages (from importlib-metadata>=4.4->markdown>=2.6.8->tb-nightly~=2.11.0.a->tf-nightly) (3.8.1)\n",
            "Requirement already satisfied: pyasn1<0.5.0,>=0.4.6 in /usr/local/lib/python3.7/dist-packages (from pyasn1-modules>=0.2.1->google-auth<3,>=1.6.3->tb-nightly~=2.11.0.a->tf-nightly) (0.4.8)\n",
            "Requirement already satisfied: idna<3,>=2.5 in /usr/local/lib/python3.7/dist-packages (from requests<3,>=2.21.0->tb-nightly~=2.11.0.a->tf-nightly) (2.10)\n",
            "Requirement already satisfied: certifi>=2017.4.17 in /usr/local/lib/python3.7/dist-packages (from requests<3,>=2.21.0->tb-nightly~=2.11.0.a->tf-nightly) (2022.6.15)\n",
            "Requirement already satisfied: urllib3!=1.25.0,!=1.25.1,<1.26,>=1.21.1 in /usr/local/lib/python3.7/dist-packages (from requests<3,>=2.21.0->tb-nightly~=2.11.0.a->tf-nightly) (1.24.3)\n",
            "Requirement already satisfied: chardet<4,>=3.0.2 in /usr/local/lib/python3.7/dist-packages (from requests<3,>=2.21.0->tb-nightly~=2.11.0.a->tf-nightly) (3.0.4)\n",
            "Requirement already satisfied: oauthlib>=3.0.0 in /usr/local/lib/python3.7/dist-packages (from requests-oauthlib>=0.7.0->google-auth-oauthlib<0.5,>=0.4.1->tb-nightly~=2.11.0.a->tf-nightly) (3.2.0)\n",
            "Requirement already satisfied: pyparsing!=3.0.5,>=2.0.2 in /usr/local/lib/python3.7/dist-packages (from packaging->tf-nightly) (3.0.9)\n",
            "Installing collected packages: tf-estimator-nightly, tb-nightly, keras-nightly, gast, tf-nightly\n",
            "  Attempting uninstall: gast\n",
            "    Found existing installation: gast 0.5.3\n",
            "    Uninstalling gast-0.5.3:\n",
            "      Successfully uninstalled gast-0.5.3\n",
            "Successfully installed gast-0.4.0 keras-nightly-2.11.0.dev2022090807 tb-nightly-2.11.0a20220908 tf-estimator-nightly-2.11.0.dev2022090808 tf-nightly-2.11.0.dev20220908\n",
            "Looking in indexes: https://pypi.org/simple, https://us-python.pkg.dev/colab-wheels/public/simple/\n",
            "Collecting tensorflow-addons\n",
            "  Downloading tensorflow_addons-0.17.1-cp37-cp37m-manylinux_2_17_x86_64.manylinux2014_x86_64.whl (1.1 MB)\n",
            "\u001b[K     |████████████████████████████████| 1.1 MB 22.9 MB/s \n",
            "\u001b[?25hRequirement already satisfied: typeguard>=2.7 in /usr/local/lib/python3.7/dist-packages (from tensorflow-addons) (2.7.1)\n",
            "Requirement already satisfied: packaging in /usr/local/lib/python3.7/dist-packages (from tensorflow-addons) (21.3)\n",
            "Requirement already satisfied: pyparsing!=3.0.5,>=2.0.2 in /usr/local/lib/python3.7/dist-packages (from packaging->tensorflow-addons) (3.0.9)\n",
            "Installing collected packages: tensorflow-addons\n",
            "Successfully installed tensorflow-addons-0.17.1\n"
          ]
        },
        {
          "output_type": "stream",
          "name": "stderr",
          "text": [
            "/usr/local/lib/python3.7/dist-packages/tensorflow_addons/utils/ensure_tf_install.py:43: UserWarning: You are currently using a nightly version of TensorFlow (2.11.0-dev20220908). \n",
            "TensorFlow Addons offers no support for the nightly versions of TensorFlow. Some things might work, some other might not. \n",
            "If you encounter a bug, do not file an issue on GitHub.\n",
            "  UserWarning,\n"
          ]
        },
        {
          "output_type": "stream",
          "name": "stdout",
          "text": [
            "Reading package lists... Done\n",
            "Building dependency tree       \n",
            "Reading state information... Done\n",
            "The following package was automatically installed and is no longer required:\n",
            "  libnvidia-common-460\n",
            "Use 'apt autoremove' to remove it.\n",
            "The following packages will be REMOVED:\n",
            "  libcudnn8-dev\n",
            "The following held packages will be changed:\n",
            "  libcudnn8\n",
            "The following packages will be upgraded:\n",
            "  libcudnn8\n",
            "1 upgraded, 0 newly installed, 1 to remove and 18 not upgraded.\n",
            "Need to get 430 MB of archives.\n",
            "After this operation, 3,139 MB disk space will be freed.\n",
            "Get:1 https://developer.download.nvidia.com/compute/cuda/repos/ubuntu1804/x86_64  libcudnn8 8.1.0.77-1+cuda11.2 [430 MB]\n",
            "Fetched 430 MB in 7s (64.0 MB/s)\n",
            "(Reading database ... 155685 files and directories currently installed.)\n",
            "Removing libcudnn8-dev (8.0.5.39-1+cuda11.1) ...\n",
            "(Reading database ... 155663 files and directories currently installed.)\n",
            "Preparing to unpack .../libcudnn8_8.1.0.77-1+cuda11.2_amd64.deb ...\n",
            "Unpacking libcudnn8 (8.1.0.77-1+cuda11.2) over (8.0.5.39-1+cuda11.1) ...\n",
            "Setting up libcudnn8 (8.1.0.77-1+cuda11.2) ...\n"
          ]
        }
      ]
    },
    {
      "cell_type": "markdown",
      "source": [
        "## **Dataset**"
      ],
      "metadata": {
        "id": "p5yT32NJW894"
      }
    },
    {
      "cell_type": "markdown",
      "source": [
        "### **Caricamento Dataset**"
      ],
      "metadata": {
        "id": "P7SJFj4fWzyZ"
      }
    },
    {
      "cell_type": "code",
      "source": [
        "train_dir=\"/content/drive/MyDrive/LabIA/Dataset/CNN/Train\"\n",
        "test_dir=\"/content/drive/MyDrive/LabIA/Dataset/CNN/Test\"\n",
        "\n",
        "#train_dir=\"/content/drive/MyDrive/LabIA/CNN/Train\"\n",
        "#test_dir=\"/content/drive/MyDrive/LabIA/CNN/Test\"\n",
        "\n",
        "batch_dim=8\n",
        "\n",
        "\n",
        "train_generator = tf.keras.utils.image_dataset_from_directory(\n",
        "        train_dir,\n",
        "        validation_split=0.2,\n",
        "        image_size=(256, 256),  \n",
        "        batch_size=batch_dim,\n",
        "        label_mode='int',\n",
        "        seed=297,\n",
        "        subset='training')\n",
        "\n",
        "validation_generator =  tf.keras.utils.image_dataset_from_directory(\n",
        "        train_dir,\n",
        "        validation_split=0.2,\n",
        "        image_size=(256, 256),\n",
        "        batch_size=batch_dim,\n",
        "        label_mode='int',\n",
        "        seed=297,\n",
        "        subset='validation')\n",
        "\n",
        "test_generator =  tf.keras.utils.image_dataset_from_directory(\n",
        "        test_dir,\n",
        "        image_size=(256, 256),\n",
        "        batch_size=batch_dim,\n",
        "        label_mode='int')"
      ],
      "metadata": {
        "colab": {
          "base_uri": "https://localhost:8080/"
        },
        "id": "riUrYhdVnT6i",
        "outputId": "60087298-7e23-4905-b1bf-9da9d0d4433e"
      },
      "execution_count": null,
      "outputs": [
        {
          "output_type": "stream",
          "name": "stdout",
          "text": [
            "Found 567 files belonging to 2 classes.\n",
            "Using 454 files for training.\n",
            "Found 567 files belonging to 2 classes.\n",
            "Using 113 files for validation.\n",
            "Found 186 files belonging to 2 classes.\n"
          ]
        }
      ]
    },
    {
      "cell_type": "markdown",
      "source": [
        "### **Operazioni per Ottimizzazione della Memoria**"
      ],
      "metadata": {
        "id": "gz4d-hgnXB72"
      }
    },
    {
      "cell_type": "code",
      "source": [
        "AUTOTUNE = tf.data.AUTOTUNE\n",
        "\n",
        "train_generator = train_generator.cache().shuffle(1000).prefetch(buffer_size=AUTOTUNE)\n",
        "validation_generator = validation_generator.cache().prefetch(buffer_size=AUTOTUNE)\n"
      ],
      "metadata": {
        "id": "xcc-bdrD8neD"
      },
      "execution_count": null,
      "outputs": []
    },
    {
      "cell_type": "markdown",
      "source": [
        "## **Funzione per disegnare le Learning Curves**"
      ],
      "metadata": {
        "id": "RwsNm7SDXTtV"
      }
    },
    {
      "cell_type": "code",
      "source": [
        "def learning_curves(history):\n",
        "  acc = history.history['acc']\n",
        "  val_acc = history.history['val_acc']\n",
        "\n",
        "\n",
        "  loss = history.history['loss']\n",
        "  val_loss = history.history['val_loss']\n",
        "\n",
        "\n",
        "  epochs = range(len(acc))\n",
        "\n",
        "\n",
        "  plt.plot(epochs, acc,\"tab:green\", label=\"Training\")\n",
        "  plt.plot(epochs, val_acc,\"tab:blue\", label=\"Validation\")\n",
        "  plt.legend(loc=\"upper left\")\n",
        "  plt.title('Training and validation accuracy')\n",
        "\n",
        "  plt.figure()\n",
        "\n",
        "\n",
        "  plt.plot(epochs, loss,\"tab:green\", label=\"Training\")\n",
        "  plt.plot(epochs, val_loss,\"tab:blue\", label=\"Validation\")\n",
        "  plt.legend(loc=\"upper right\")\n",
        "  plt.title('Training and validation loss')\n"
      ],
      "metadata": {
        "id": "8YJkwjEQtIq3"
      },
      "execution_count": null,
      "outputs": []
    },
    {
      "cell_type": "markdown",
      "source": [
        "## **Model**"
      ],
      "metadata": {
        "id": "kY02FB3gYUnE"
      }
    },
    {
      "cell_type": "markdown",
      "source": [
        "### **Base Model: Pre-Allenato**"
      ],
      "metadata": {
        "id": "94U9ZPXCXqnu"
      }
    },
    {
      "cell_type": "code",
      "source": [
        "pre_model = tf.keras.applications.convnext.ConvNeXtTiny(input_shape=(256, 256, 3),\n",
        "                                                        include_top=False,\n",
        "                                                        include_preprocessing=True,\n",
        "                                                        weights='imagenet',\n",
        "                                                        classes=2,\n",
        "                                                        pooling='avg')\n",
        "pre_model.trainable = False"
      ],
      "metadata": {
        "id": "RlgrCWvke1Nq",
        "colab": {
          "base_uri": "https://localhost:8080/"
        },
        "outputId": "abe5c6ea-c7b1-475e-f8ab-c50d7ce89d98"
      },
      "execution_count": null,
      "outputs": [
        {
          "output_type": "stream",
          "name": "stdout",
          "text": [
            "Downloading data from https://storage.googleapis.com/tensorflow/keras-applications/convnext/convnext_tiny_notop.h5\n",
            "111650432/111650432 [==============================] - 4s 0us/step\n"
          ]
        }
      ]
    },
    {
      "cell_type": "markdown",
      "source": [
        "### **Modello Completo**"
      ],
      "metadata": {
        "id": "MU3zL1RsXxu_"
      }
    },
    {
      "cell_type": "code",
      "source": [
        "i_input = layers.Input(shape=(256, 256, 3))\n",
        "x = pre_model(i_input,training=False)\n",
        "x = layers.Dropout(0.2)(x)\n",
        "x = layers.LayerNormalization()(x)\n",
        "x = layers.Flatten()(x)\n",
        "x = layers.Dense(512, activation = 'gelu')(x)\n",
        "\n",
        "output = layers.Dense(1, activation='sigmoid')(x)\n",
        "\n",
        "conv_model = Model(i_input, output)\n",
        "\n",
        "conv_model.summary()\n"
      ],
      "metadata": {
        "colab": {
          "base_uri": "https://localhost:8080/"
        },
        "id": "YmWDkthte72j",
        "outputId": "7bf44132-e5da-43ca-ee8b-0afff7c83fff"
      },
      "execution_count": null,
      "outputs": [
        {
          "output_type": "stream",
          "name": "stdout",
          "text": [
            "Model: \"model\"\n",
            "_________________________________________________________________\n",
            " Layer (type)                Output Shape              Param #   \n",
            "=================================================================\n",
            " input_3 (InputLayer)        [(None, 256, 256, 3)]     0         \n",
            "                                                                 \n",
            " convnext_tiny (Functional)  (None, 768)               27820128  \n",
            "                                                                 \n",
            " dropout (Dropout)           (None, 768)               0         \n",
            "                                                                 \n",
            " layer_normalization_2 (Laye  (None, 768)              1536      \n",
            " rNormalization)                                                 \n",
            "                                                                 \n",
            " flatten (Flatten)           (None, 768)               0         \n",
            "                                                                 \n",
            " dense (Dense)               (None, 512)               393728    \n",
            "                                                                 \n",
            " dense_1 (Dense)             (None, 1)                 513       \n",
            "                                                                 \n",
            "=================================================================\n",
            "Total params: 28,215,905\n",
            "Trainable params: 395,777\n",
            "Non-trainable params: 27,820,128\n",
            "_________________________________________________________________\n"
          ]
        }
      ]
    },
    {
      "cell_type": "markdown",
      "source": [
        "## **Compilazione**"
      ],
      "metadata": {
        "id": "2dF3o7zYX6v5"
      }
    },
    {
      "cell_type": "code",
      "source": [
        "lr=0.001\n",
        "wd=0.004\n",
        "conv_model.compile(loss='binary_crossentropy',\n",
        "              optimizer=tfa.optimizers.AdamW(learning_rate=lr,weight_decay=wd),\n",
        "              metrics=['acc'])"
      ],
      "metadata": {
        "id": "INtaMQ4ufP09"
      },
      "execution_count": null,
      "outputs": []
    },
    {
      "cell_type": "markdown",
      "source": [
        "## **Train**"
      ],
      "metadata": {
        "id": "8HbKv2H2X-A7"
      }
    },
    {
      "cell_type": "code",
      "source": [
        "epoche=50\n",
        "es=EarlyStopping(monitor='val_acc', mode='max', verbose=1, patience=4)\n",
        "mc=ModelCheckpoint('/content/drive/MyDrive/LabIA/Best Model/best_conv_model.h5', monitor='val_accuracy', mode='max')\n",
        "\n",
        "with tf.device('/gpu:0'):\n",
        "  history_conv = conv_model.fit(\n",
        "        train_generator,\n",
        "        epochs=epoche,\n",
        "        validation_data=validation_generator,\n",
        "        callbacks=[mc,es])"
      ],
      "metadata": {
        "id": "n9oDFoJPfUod",
        "colab": {
          "base_uri": "https://localhost:8080/"
        },
        "outputId": "ac5b100e-33ec-489d-86cc-070b800c2f17"
      },
      "execution_count": null,
      "outputs": [
        {
          "output_type": "stream",
          "name": "stdout",
          "text": [
            "Epoch 1/50\n",
            "57/57 [==============================] - 167s 751ms/step - loss: 0.5458 - acc: 0.7291 - val_loss: 0.2681 - val_acc: 0.8938\n",
            "Epoch 2/50\n",
            "57/57 [==============================] - 7s 122ms/step - loss: 0.3101 - acc: 0.9009 - val_loss: 0.3395 - val_acc: 0.8407\n",
            "Epoch 3/50\n",
            "57/57 [==============================] - 7s 123ms/step - loss: 0.3039 - acc: 0.8987 - val_loss: 0.2734 - val_acc: 0.9027\n",
            "Epoch 4/50\n",
            "57/57 [==============================] - 7s 124ms/step - loss: 0.2951 - acc: 0.9207 - val_loss: 0.2289 - val_acc: 0.9469\n",
            "Epoch 5/50\n",
            "57/57 [==============================] - 7s 123ms/step - loss: 0.2894 - acc: 0.9141 - val_loss: 0.2198 - val_acc: 0.9558\n",
            "Epoch 6/50\n",
            "57/57 [==============================] - 7s 124ms/step - loss: 0.2787 - acc: 0.9273 - val_loss: 0.2256 - val_acc: 0.9646\n",
            "Epoch 7/50\n",
            "57/57 [==============================] - 7s 124ms/step - loss: 0.2892 - acc: 0.9053 - val_loss: 0.2304 - val_acc: 0.9558\n",
            "Epoch 8/50\n",
            "57/57 [==============================] - 7s 124ms/step - loss: 0.2996 - acc: 0.9295 - val_loss: 0.2353 - val_acc: 0.9735\n",
            "Epoch 9/50\n",
            "57/57 [==============================] - 7s 127ms/step - loss: 0.3081 - acc: 0.9119 - val_loss: 0.2486 - val_acc: 0.9823\n",
            "Epoch 10/50\n",
            "57/57 [==============================] - 7s 123ms/step - loss: 0.3044 - acc: 0.9405 - val_loss: 0.2867 - val_acc: 0.9292\n",
            "Epoch 11/50\n",
            "57/57 [==============================] - 7s 126ms/step - loss: 0.3116 - acc: 0.9273 - val_loss: 0.2723 - val_acc: 0.9558\n",
            "Epoch 12/50\n",
            "57/57 [==============================] - 7s 123ms/step - loss: 0.3337 - acc: 0.9251 - val_loss: 0.2851 - val_acc: 0.9646\n",
            "Epoch 13/50\n",
            "57/57 [==============================] - 7s 123ms/step - loss: 0.3488 - acc: 0.9009 - val_loss: 0.3023 - val_acc: 0.9646\n",
            "Epoch 13: early stopping\n"
          ]
        }
      ]
    },
    {
      "cell_type": "markdown",
      "source": [
        "### **Disegno Learning Curves**"
      ],
      "metadata": {
        "id": "wIGdS0ToYAtV"
      }
    },
    {
      "cell_type": "code",
      "source": [
        "learning_curves(history_conv)"
      ],
      "metadata": {
        "id": "Gfat8USAfack",
        "colab": {
          "base_uri": "https://localhost:8080/",
          "height": 545
        },
        "outputId": "848a3337-73b1-4518-fe4a-75b5083d462d"
      },
      "execution_count": null,
      "outputs": [
        {
          "output_type": "display_data",
          "data": {
            "text/plain": [
              "<Figure size 432x288 with 1 Axes>"
            ],
            "image/png": "[encoded data removed]"
          },
          "metadata": {
            "needs_background": "light"
          }
        },
        {
          "output_type": "display_data",
          "data": {
            "text/plain": [
              "<Figure size 432x288 with 1 Axes>"
            ],
            "image/png": "[encoded data removed]"
          },
          "metadata": {
            "needs_background": "light"
          }
        }
      ]
    },
    {
      "cell_type": "markdown",
      "source": [
        "## **Test**"
      ],
      "metadata": {
        "id": "KSemkXuPYGVr"
      }
    },
    {
      "cell_type": "code",
      "source": [
        "conv_model.load_weights(\"/content/drive/MyDrive/LabIA/Best Model/best_conv_model.h5\")\n",
        "results_conv = conv_model.evaluate(\n",
        "      test_generator,\n",
        "      batch_size=batch_dim)\n",
        "print(\"test loss, test acc:\", results_conv)"
      ],
      "metadata": {
        "id": "bkCarOIEfc3q",
        "colab": {
          "base_uri": "https://localhost:8080/"
        },
        "outputId": "2831c28b-0b46-4a19-ce54-af11c2914060"
      },
      "execution_count": null,
      "outputs": [
        {
          "output_type": "stream",
          "name": "stdout",
          "text": [
            "24/24 [==============================] - 83s 2s/step - loss: 0.4595 - acc: 0.7849\n",
            "test loss, test acc: [0.4595085382461548, 0.7849462628364563]\n"
          ]
        }
      ]
    }
  ],
  "metadata": {
    "colab": {
      "provenance": [],
      "collapsed_sections": [],
      "include_colab_link": true
    },
    "gpuClass": "standard",
    "kernelspec": {
      "display_name": "Python 3",
      "name": "python3"
    },
    "language_info": {
      "name": "python"
    },
    "accelerator": "GPU"
  },
  "nbformat": 4,
  "nbformat_minor": 0
}