{
  "cells": [
    {
      "cell_type": "markdown",
      "metadata": {
        "id": "view-in-github",
        "colab_type": "text"
      },
      "source": [
        "<a href=\"https://colab.research.google.com/github/Michele-Simeone/AILabProj-NBA-Scheme-Classification/blob/main/main/Code/Image_Generation.ipynb\" target=\"_parent\"><img src=\"https://colab.research.google.com/assets/colab-badge.svg\" alt=\"Open In Colab\"/></a>"
      ]
    },
    {
      "cell_type": "markdown",
      "source": [
        "## **Importazione delle librerie**"
      ],
      "metadata": {
        "id": "PKpB5X4hRzNu"
      }
    },
    {
      "cell_type": "code",
      "source": [
        "import pandas as pd\n",
        "import numpy as np\n",
        "from PIL import Image\n",
        "\n",
        "%matplotlib inline\n",
        "import matplotlib.pyplot as plt\n",
        "from matplotlib.patches import Circle, Rectangle, Arc\n",
        "\n",
        "import json\n",
        "import random\n",
        "\n",
        "from google.colab import drive\n",
        "import os"
      ],
      "metadata": {
        "colab": {
          "base_uri": "https://localhost:8080/"
        },
        "id": "-CJAwI4OIwkp",
        "outputId": "4593c68d-663b-4595-b6f2-ce741787f5ef"
      },
      "execution_count": null,
      "outputs": [
        {
          "output_type": "stream",
          "name": "stdout",
          "text": [
            "Looking in indexes: https://pypi.org/simple, https://us-python.pkg.dev/colab-wheels/public/simple/\n",
            "Requirement already satisfied: pydub in /usr/local/lib/python3.7/dist-packages (0.25.1)\n"
          ]
        }
      ]
    },
    {
      "cell_type": "code",
      "source": [
        "drive.mount('/content/drive')"
      ],
      "metadata": {
        "colab": {
          "base_uri": "https://localhost:8080/"
        },
        "id": "k5NN6v4pRHaF",
        "outputId": "55449f7a-e91e-4dde-9332-7336d6c91b5f"
      },
      "execution_count": null,
      "outputs": [
        {
          "output_type": "stream",
          "name": "stdout",
          "text": [
            "Mounted at /content/drive\n"
          ]
        }
      ]
    },
    {
      "cell_type": "markdown",
      "source": [
        "# **Operazioni per generare gli eventi di una partita sottoforma di immagini**"
      ],
      "metadata": {
        "id": "WxgIUHGXSo4Q"
      }
    },
    {
      "cell_type": "markdown",
      "metadata": {
        "id": "oZuQJfOEwCQn"
      },
      "source": [
        "## **Convertire I Dati Json in un Dataset**"
      ]
    },
    {
      "cell_type": "code",
      "source": [
        "def open_file(s,role):\n",
        "  with open(s,'r') as f:\n",
        "      data = json.loads(f.read())\n",
        "  headers = [\"team_id\", \"player_id\", \"x_loc\", \"y_loc\", \n",
        "            \"radius\", \"moment\", \"game_clock\", \"shot_clock\",\"event_id\"]\n",
        "  df = pd.json_normalize(data, record_path =['events','moments'], meta=[[\"events\",'eventId']])\n",
        "  moments = df.values.tolist()\n",
        "  player_moments = []\n",
        "  i=0\n",
        "  for moment in moments:\n",
        "      # Formattazione dei momenti con aggiunta di informazioni temporali\n",
        "      for player in moment[5]:\n",
        "          player.append(i)\n",
        "          player.append(moment[2])\n",
        "          player.append(moment[3])\n",
        "          player.append(moment[6])\n",
        "          player_moments.append(player)\n",
        "      i=i+1\n",
        "  df = pd.DataFrame(player_moments, columns=headers)\n",
        "  df[\"event_id\"] = pd.to_numeric(df[\"event_id\"])   \n",
        "  result = pd.merge(df,role,on='player_id')\n",
        "  result.sort_values(by=[\"moment\"], inplace = True)\n",
        "  result=result[[\"event_id\",\"moment\",\"player_id\",\"name\",\"surname\",\"x_loc\",\"y_loc\",\"radius\",\"game_clock\",\"shot_clock\",\"team\",\"pg%\",\"sg%\",\"sf%\",\"pf%\",\"c%\"]]\n",
        "  return result"
      ],
      "metadata": {
        "id": "BOpoXYrMr4MS"
      },
      "execution_count": null,
      "outputs": []
    },
    {
      "cell_type": "markdown",
      "source": [
        "## **Assegnazione ruoli per evento**"
      ],
      "metadata": {
        "id": "a9J4PcCnVKlv"
      }
    },
    {
      "cell_type": "code",
      "source": [
        "def assign_role(a):\n",
        "  b=pd.DataFrame(columns=[\"event_id\",\"moment\",\"player_id\",\"name\",\"surname\",\"x_loc\",\"y_loc\",\"radius\",\"game_clock\",\"shot_clock\",\"team\",\"pg%\",\"sg%\",\"sf%\",\"pf%\",\"c%\"])\n",
        "  c=pd.DataFrame(columns=[\"player_id\",\"role\"])\n",
        "  c=c.append({'player_id': -1,\"role\": \"ball\"},ignore_index=True)\n",
        "  for i in range(1,6):\n",
        "    b=b.append(a.iloc[i])\n",
        "  b=b[[\"player_id\",\"pg%\",\"sg%\",\"sf%\",\"pf%\",\"c%\"]]\n",
        "  pg=0\n",
        "  x=0\n",
        "  sg=0\n",
        "  y=0\n",
        "  sf=0\n",
        "  pf=0\n",
        "  m=0\n",
        "  ce=0\n",
        "  n=0\n",
        "  for i in b.index: \n",
        "    if b[\"c%\"][i]>=n:\n",
        "      ce=b[\"player_id\"][i]\n",
        "      n=b[\"c%\"][i]\n",
        "  for i in b.index: \n",
        "    if b[\"pg%\"][i]>=x and ce!=b[\"player_id\"][i]:\n",
        "      pg=b[\"player_id\"][i]\n",
        "      x=b[\"pg%\"][i]\n",
        "  for i in b.index: \n",
        "    if b[\"pf%\"][i]>=m and ce!=b[\"player_id\"][i] and pg!=b[\"player_id\"][i]:\n",
        "      pf=b[\"player_id\"][i]\n",
        "      m=b[\"pf%\"][i]\n",
        "  for i in b.index: \n",
        "    if b[\"sg%\"][i]>=y and ce!=b[\"player_id\"][i] and pg!=b[\"player_id\"][i] and pf!=b[\"player_id\"][i]:\n",
        "      sg=b[\"player_id\"][i]\n",
        "      y=b[\"sg%\"][i]\n",
        "  for i in b.index: \n",
        "    if ce!=b[\"player_id\"][i] and pg!=b[\"player_id\"][i] and pf!=b[\"player_id\"][i] and sg!=b[\"player_id\"][i]:\n",
        "      sf=b[\"player_id\"][i]\n",
        "      break\n",
        "  c=c.append({'player_id':pg,\"role\": \"pg\"},ignore_index=True)\n",
        "  c=c.append({'player_id':sg,\"role\": \"sg\"},ignore_index=True)  \n",
        "  c=c.append({'player_id':sf,\"role\": \"sf\"},ignore_index=True)\n",
        "  c=c.append({'player_id':pf,\"role\": \"pf\"},ignore_index=True)\n",
        "  c=c.append({'player_id':ce,\"role\": \"c\"},ignore_index=True)\n",
        "  return c"
      ],
      "metadata": {
        "id": "lBtW1ytxlB8w"
      },
      "execution_count": null,
      "outputs": []
    },
    {
      "cell_type": "markdown",
      "source": [
        "## **Plot campo**"
      ],
      "metadata": {
        "id": "HEYWu9U5KSW8"
      }
    },
    {
      "cell_type": "code",
      "source": [
        "def draw_court(ax=None, color=\"gray\", lw=1, zorder=0):\n",
        "    \n",
        "    if ax is None:\n",
        "        ax = plt.gca()\n",
        "\n",
        "\n",
        "    outer = Rectangle((0,-50), width=94, height=50, color=color,\n",
        "                      zorder=zorder, fill=False, lw=lw)\n",
        "\n",
        "   \n",
        "    l_hoop = Circle((5.35,-25), radius=.75, lw=lw, fill=False, \n",
        "                    color=color, zorder=zorder)\n",
        "    r_hoop = Circle((88.65,-25), radius=.75, lw=lw, fill=False,\n",
        "                    color=color, zorder=zorder)\n",
        "    \n",
        "    l_backboard = Rectangle((4,-28), 0, 6, lw=lw, color=color,\n",
        "                            zorder=zorder)\n",
        "    r_backboard = Rectangle((90, -28), 0, 6, lw=lw,color=color,\n",
        "                            zorder=zorder)\n",
        "\n",
        "   \n",
        "    l_outer_box = Rectangle((0, -33), 19, 16, lw=lw, fill=False,\n",
        "                            color=color, zorder=zorder)    \n",
        "    l_inner_box = Rectangle((0, -31), 19, 12, lw=lw, fill=False,\n",
        "                            color=color, zorder=zorder)\n",
        "    r_outer_box = Rectangle((75, -33), 19, 16, lw=lw, fill=False,\n",
        "                            color=color, zorder=zorder)\n",
        "\n",
        "    r_inner_box = Rectangle((75, -31), 19, 12, lw=lw, fill=False,\n",
        "                            color=color, zorder=zorder)\n",
        "\n",
        "    \n",
        "    l_free_throw = Circle((19,-25), radius=6, lw=lw, fill=False,\n",
        "                          color=color, zorder=zorder)\n",
        "    r_free_throw = Circle((75, -25), radius=6, lw=lw, fill=False,\n",
        "                          color=color, zorder=zorder)\n",
        "\n",
        "   \n",
        "    l_corner_a = Rectangle((0,-3), 14, 0, lw=lw, color=color,\n",
        "                           zorder=zorder)\n",
        "    l_corner_b = Rectangle((0,-47), 14, 0, lw=lw, color=color,\n",
        "                           zorder=zorder)\n",
        "    r_corner_a = Rectangle((80, -3), 14, 0, lw=lw, color=color,\n",
        "                           zorder=zorder)\n",
        "    r_corner_b = Rectangle((80, -47), 14, 0, lw=lw, color=color,\n",
        "                           zorder=zorder)\n",
        "    \n",
        "   \n",
        "    l_arc = Arc((5,-25), 47.5, 47.5, theta1=292, theta2=68, lw=lw,\n",
        "                color=color, zorder=zorder)\n",
        "    r_arc = Arc((89, -25), 47.5, 47.5, theta1=112, theta2=248, lw=lw,\n",
        "                color=color, zorder=zorder)\n",
        "\n",
        "   \n",
        "    half_court = Rectangle((47,-50), 0, 50, lw=lw, color=color,\n",
        "                           zorder=zorder)\n",
        "\n",
        "    hc_big_circle = Circle((47, -25), radius=6, lw=lw, fill=False,\n",
        "                           color=color, zorder=zorder)\n",
        "    hc_sm_circle = Circle((47, -25), radius=2, lw=lw, fill=False,\n",
        "                          color=color, zorder=zorder)\n",
        "\n",
        "    court_elements = [l_hoop, l_backboard, l_outer_box, outer,\n",
        "                      l_inner_box, l_free_throw, l_corner_a,\n",
        "                      l_corner_b, l_arc, r_hoop, r_backboard, \n",
        "                      r_outer_box, r_inner_box, r_free_throw,\n",
        "                      r_corner_a, r_corner_b, r_arc, half_court,\n",
        "                      hc_big_circle, hc_sm_circle]\n",
        "\n",
        "   \n",
        "    for element in court_elements:\n",
        "        ax.add_patch(element)\n",
        "    ax.set_facecolor('black')\n",
        "    return ax"
      ],
      "metadata": {
        "id": "YHQ0qJaoDUiV"
      },
      "execution_count": null,
      "outputs": []
    },
    {
      "cell_type": "markdown",
      "source": [
        "## **Disegno**"
      ],
      "metadata": {
        "id": "eY_tSkdlTITZ"
      }
    },
    {
      "cell_type": "markdown",
      "source": [
        "### **Disegnare Traiettorie Evento divise per Momenti**"
      ],
      "metadata": {
        "id": "c6dckUjgEdj6"
      }
    },
    {
      "cell_type": "code",
      "source": [
        "def marracash(a,events,j,k):\n",
        "     for i in range(0, a.shape[0], 444):\n",
        "\n",
        "      dfi=a.iloc[i:i+444]\n",
        "      pg=dfi[dfi.role=='pg']\n",
        "      sg=dfi[dfi.role=='sg']\n",
        "      sf=dfi[dfi.role=='sf']\n",
        "      pf=dfi[dfi.role=='pf']\n",
        "      ce=dfi[dfi.role=='c']\n",
        "      ball=dfi[dfi.role=='ball']\n",
        "\n",
        "      plt.figure(figsize=(15, 11.5))\n",
        "      plt.scatter(pg.x_loc, -pg.y_loc, c=pg.game_clock,cmap=plt.cm.Blues_r, s=50, zorder=5)\n",
        "      plt.scatter(sg.x_loc, -sg.y_loc, c=sg.game_clock, cmap=plt.cm.Oranges_r, s=50, zorder=1)\n",
        "      plt.scatter(sf.x_loc, -sf.y_loc, c=sf.game_clock,cmap=plt.cm.RdPu_r, s=50, zorder=4)\n",
        "      plt.scatter(pf.x_loc, -pf.y_loc, c=pf.game_clock,cmap=plt.cm.Purples_r, s=50, zorder=2)\n",
        "      plt.scatter(ce.x_loc, -ce.y_loc, c=ce.game_clock,cmap=plt.cm.Greens_r, s=50, zorder=3)\n",
        "      plt.scatter(ball.x_loc, -ball.y_loc, c=ball.game_clock,cmap=plt.cm.Reds_r, s=50, zorder=6)\n",
        "    \n",
        "\n",
        "      draw_court()\n",
        "\n",
        "      plt.xlim(0, 101)\n",
        "      plt.ylim(-50, 0)\n",
        "      plt.yticks([])\n",
        "      plt.xticks([])\n",
        "      plt.savefig(\"/content/drive/MyDrive/LabIA/Images/Boston/\"+str(k)+'/'+str(events[\"event_id\"][j])+'/'+str(i)+'.png', bbox_inches = 'tight')\n",
        "      plt.close()\n",
        "      "
      ],
      "metadata": {
        "id": "eXq-nFtvKm1c"
      },
      "execution_count": null,
      "outputs": []
    },
    {
      "cell_type": "markdown",
      "source": [
        "### **Operazioni tra dataset**\n"
      ],
      "metadata": {
        "id": "MZ14oOFaS5ZO"
      }
    },
    {
      "cell_type": "code",
      "source": [
        "def tedua(k,role):\n",
        "  result=open_file('/content/drive/MyDrive/LabIA/Data/Traiettorie/Boston/1 ('+str(k)+').json',role)\n",
        "  try:\n",
        "      os.mkdir(\"/content/drive/MyDrive/LabIA/Images/Boston/\"+str(k))\n",
        "  except:\n",
        "      print(\"Folder already found\")\n",
        "  events=result.groupby(\"event_id\",as_index=False)[\"moment\"].count()\n",
        "  events=events[events.moment>=3828]\n",
        "  events=events[[\"event_id\"]]\n",
        "  result = pd.merge(result,events,on='event_id')\n",
        "  result.sort_values(by=[\"moment\",\"player_id\"], inplace = True)\n",
        "  for j in events.index: \n",
        "     a=result[result.event_id==events[\"event_id\"][j]]\n",
        "     c=assign_role(a)\n",
        "     a = pd.merge(a,c,on='player_id')\n",
        "     a.drop(['pg%', 'sg%','sf%','pf%','c%'], axis = 1,inplace=True)\n",
        "     a.sort_values(by=[\"moment\",\"player_id\"], inplace = True)\n",
        "     try:\n",
        "      os.mkdir(\"/content/drive/MyDrive/LabIA/Images/Boston/\"+str(k)+'/'+str(events[\"event_id\"][j]))\n",
        "     except:\n",
        "      print(\"Folder already found\")\n",
        "     marracash(a,events,j,k)"
      ],
      "metadata": {
        "id": "PLVInDgKM836"
      },
      "execution_count": null,
      "outputs": []
    },
    {
      "cell_type": "markdown",
      "source": [
        "### **Scelta Team e Partita**"
      ],
      "metadata": {
        "id": "2gCF-KTOTlaj"
      }
    },
    {
      "cell_type": "code",
      "source": [
        "headers = [\"player_id\", \"name\", \"surname\", \n",
        "           \"team\", \"pg%\", \"sg%\", \"sf%\",\"pf%\",\"c%\"]\n",
        "role=pd.read_csv(r'/content/drive/MyDrive/LabIA/Data/Ruoli Giocatori/NBA_Player_Role_2016 Query.csv',sep=';')\n",
        "role.columns=headers\n",
        "role=role[role.team==\"BOS\"]\n",
        "role=role.append({\"player_id\":-1,\"name\":\"Ball\",\"surname\":None,\"team\":None,\"pg%\":-1,\"sg%\":-1,\"sf%\":-1,\"pf%\":-1,\"c%\":-1}, ignore_index=True)\n",
        "role.sort_values(by=[\"player_id\"], inplace = True)\n",
        "tedua(42,role)"
      ],
      "metadata": {
        "id": "d_KQ3-_d9J5S"
      },
      "execution_count": null,
      "outputs": []
    },
    {
      "cell_type": "markdown",
      "source": [
        "### **Generazione Cartelle Dataset divise tra sinistra e destra**"
      ],
      "metadata": {
        "id": "od-ibBy_Tpza"
      }
    },
    {
      "cell_type": "code",
      "source": [
        "for u in range(3,43):\n",
        "  try:\n",
        "      os.mkdir(\"/content/drive/MyDrive/LabIA/Images/Boston/3/Indy Rip 14/L/\"+str(u))\n",
        "      os.mkdir(\"/content/drive/MyDrive/LabIA/Images/Boston/3/Indy Rip 14/R/\"+str(u))\n",
        "      os.mkdir(\"/content/drive/MyDrive/LabIA/Images/Boston/3/Zip Chase/L/\"+str(u))\n",
        "      os.mkdir(\"/content/drive/MyDrive/LabIA/Images/Boston/3/Zip Chase/R/\"+str(u))\n",
        "  except:\n",
        "      print(\"Folder already found\")\n",
        "  "
      ],
      "metadata": {
        "id": "YOlZI00A0vWf"
      },
      "execution_count": null,
      "outputs": []
    },
    {
      "cell_type": "markdown",
      "source": [
        "## **Data Augmentation**"
      ],
      "metadata": {
        "id": "BG7D6Ik7Y5mm"
      }
    },
    {
      "cell_type": "markdown",
      "source": [
        "### **NumPy: Flip delle Immagini**"
      ],
      "metadata": {
        "id": "q4WL9RMJDSq2"
      }
    },
    {
      "cell_type": "code",
      "source": [
        "def image_flip(a,s):\n",
        "  im = Image.open(a)\n",
        "  numpydata = np.asarray(im)\n",
        "  numpydata=np.flip(numpydata,0)\n",
        "  numpydata=np.flip(numpydata,1)\n",
        "  #noise = np.random.normal(0, .1, numpydata.shape)\n",
        "  #numpydata = numpydata + noise\n",
        "  pilImage = Image.fromarray(numpydata)\n",
        "  pilImage.save(s)\n"
      ],
      "metadata": {
        "id": "C6_CJQVWDUtz"
      },
      "execution_count": null,
      "outputs": []
    },
    {
      "cell_type": "code",
      "source": [
        "i=1\n",
        "for file in os.listdir('/content/drive/MyDrive/LabIA/Dataset/Temporaneo/CNN/0 Indy Rip 14/R'):\n",
        "    b='/content/drive/MyDrive/LabIA/Dataset/Temporaneo/CNN/0 Indy Rip 14/R/'+file\n",
        "    s='/content/drive/MyDrive/LabIA/Dataset/Temporaneo/CNN/0 Indy Rip 14/L/'+str(i)+\".png\"\n",
        "    image_flip(b,s)\n",
        "    i=i+1\n",
        "    "
      ],
      "metadata": {
        "id": "_k0X9HUtNTiB"
      },
      "execution_count": null,
      "outputs": []
    },
    {
      "cell_type": "markdown",
      "source": [
        "### **NumPy: Moltiplicazioni delle Immagini**"
      ],
      "metadata": {
        "id": "KFdjVlBvUSWo"
      }
    },
    {
      "cell_type": "code",
      "source": [
        "def image_hor(a,s,f):\n",
        "  im = Image.open(a)\n",
        "  numpydata = np.asarray(im)\n",
        "  numpydata=np.flip(numpydata,1)\n",
        "  #noise = np.random.normal(0, .1, numpydata.shape)\n",
        "  #numpydata = numpydata + noise\n",
        "  pilImage = Image.fromarray(numpydata)\n",
        "  im.save(f)\n",
        "  pilImage.save(s)\n",
        "\n",
        "def image_ver(a,s,c,d):\n",
        "  im1 = Image.open(a)\n",
        "  im2 = Image.open(s)\n",
        "  numpydata1 = np.asarray(im1)\n",
        "  numpydata2 = np.asarray(im2)\n",
        "  numpydata1=np.flip(numpydata1,0)\n",
        "  numpydata2=np.flip(numpydata2,0)\n",
        "  #noise = np.random.normal(0, .1, numpydata.shape)\n",
        "  #numpydata = numpydata + noise\n",
        "  pilImage1 = Image.fromarray(numpydata1)\n",
        "  pilImage2 = Image.fromarray(numpydata2)\n",
        "  pilImage1.save(c)\n",
        "  pilImage2.save(d)"
      ],
      "metadata": {
        "id": "_uOBn2i9ZVuM"
      },
      "execution_count": null,
      "outputs": []
    },
    {
      "cell_type": "code",
      "source": [
        "i=1999\n",
        "for file in os.listdir('/content/drive/MyDrive/LabIA/Dataset/Temporaneo/CNN/0 Indy Rip 14/L'):\n",
        "    b='/content/drive/MyDrive/LabIA/Dataset/Temporaneo/CNN/0 Indy Rip 14/L/'+file\n",
        "    k='/content/drive/MyDrive/LabIA/Dataset/CNN/Train/Indy Rip/'+file\n",
        "    s='/content/drive/MyDrive/LabIA/Dataset/CNN/Train/Indy Rip/'+str(i)+\".png\"\n",
        "    f='/content/drive/MyDrive/LabIA/Dataset/CNN/Train/Indy Rip/'+str(i+1)+\".png\"\n",
        "    g='/content/drive/MyDrive/LabIA/Dataset/CNN/Train/Indy Rip/'+str(i+2)+\".png\"\n",
        "    image_hor(b,s,k)\n",
        "    image_ver(b,s,f,g)\n",
        "    i=i+3\n",
        "    "
      ],
      "metadata": {
        "id": "ncYEyZHFY40U"
      },
      "execution_count": null,
      "outputs": []
    }
  ],
  "metadata": {
    "colab": {
      "provenance": [],
      "collapsed_sections": [],
      "include_colab_link": true
    },
    "gpuClass": "standard",
    "kernelspec": {
      "display_name": "Python 3",
      "name": "python3"
    },
    "language_info": {
      "name": "python"
    },
    "accelerator": "GPU"
  },
  "nbformat": 4,
  "nbformat_minor": 0
}